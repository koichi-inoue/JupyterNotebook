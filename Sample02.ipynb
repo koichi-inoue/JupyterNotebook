{
  "nbformat": 4,
  "nbformat_minor": 0,
  "metadata": {
    "colab": {
      "name": "Sample02.ipynb",
      "provenance": [],
      "authorship_tag": "ABX9TyNWQVWAvPxcG5bnP+yHTqnk",
      "include_colab_link": true
    },
    "kernelspec": {
      "name": "python3",
      "display_name": "Python 3"
    }
  },
  "cells": [
    {
      "cell_type": "markdown",
      "metadata": {
        "id": "view-in-github",
        "colab_type": "text"
      },
      "source": [
        "<a href=\"https://colab.research.google.com/github/koichi-inoue/JupyterNotebook/blob/master/Sample02.ipynb\" target=\"_parent\"><img src=\"https://colab.research.google.com/assets/colab-badge.svg\" alt=\"Open In Colab\"/></a>"
      ]
    },
    {
      "cell_type": "markdown",
      "metadata": {
        "id": "a2aZ16I85z-6"
      },
      "source": [
        "# サンプル２"
      ]
    },
    {
      "cell_type": "code",
      "metadata": {
        "id": "04OzlUzN5w2b"
      },
      "source": [
        ""
      ],
      "execution_count": null,
      "outputs": []
    }
  ]
}