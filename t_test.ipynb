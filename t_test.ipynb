{
  "nbformat": 4,
  "nbformat_minor": 0,
  "metadata": {
    "colab": {
      "provenance": [],
      "authorship_tag": "ABX9TyPSzg/6guADLqRDWd4Zhlw4"
    },
    "kernelspec": {
      "name": "python3",
      "display_name": "Python 3"
    },
    "language_info": {
      "name": "python"
    }
  },
  "cells": [
    {
      "cell_type": "markdown",
      "source": [
        "# t検定\n",
        "２群間の平均値の差の検定"
      ],
      "metadata": {
        "id": "yLpoRGaAZ8J4"
      }
    },
    {
      "cell_type": "code",
      "source": [
        "# ライブラリの読み込み\n",
        "import numpy as np\n",
        "import pandas as pd\n",
        "from scipy import stats"
      ],
      "metadata": {
        "id": "xU3THRUnmuIn"
      },
      "execution_count": 50,
      "outputs": []
    },
    {
      "cell_type": "markdown",
      "source": [
        "## サンプルデータの生成\n",
        "numpy の randomモジュールを使って、２グループ分の「正規乱数」を生成します。\n",
        "\n",
        "\n",
        "ｔ検定の仮定として、データは以下のようなものとします\n",
        "* 母集団が正規分布に従っている（母集団の正規性の仮定）\n",
        "* 二群の分散が等しい（分散の均一性の仮定）\n",
        "* サンプルが独立に抽出されている（サンプルの独立性の仮定）"
      ],
      "metadata": {
        "id": "_XxQHOxraFDH"
      }
    },
    {
      "cell_type": "code",
      "execution_count": 54,
      "metadata": {
        "colab": {
          "base_uri": "https://localhost:8080/",
          "height": 283
        },
        "id": "CAGRhlX3Xbv0",
        "outputId": "eeb034d8-88de-42f9-f002-bf487adf5678"
      },
      "outputs": [
        {
          "output_type": "execute_result",
          "data": {
            "text/plain": [
              "<AxesSubplot:>"
            ]
          },
          "metadata": {},
          "execution_count": 54
        },
        {
          "output_type": "display_data",
          "data": {
            "text/plain": [
              "<Figure size 432x288 with 1 Axes>"
            ],
            "image/png": "[encoded data removed]"
          },
          "metadata": {
            "needs_background": "light"
          }
        }
      ],
      "source": [
        "# Group A のデータ生成\n",
        "a = np.random.normal(\n",
        "    loc = 75, #平均\n",
        "    scale = 10, #標準偏差\n",
        "    size = 30, #データサイズ\n",
        "    )\n",
        "pd.Series(a).hist()\n",
        "\n",
        "# Group B のデータ生成\n",
        "b = np.random.normal(\n",
        "    loc = 68, #平均\n",
        "    scale = 12, #標準偏差\n",
        "    size = 30, #データサイズ\n",
        "    )\n",
        "pd.Series(b).hist()"
      ]
    },
    {
      "cell_type": "markdown",
      "source": [
        "### 実質的な差の評価\n",
        "ここで差がなければ、検定をする意味がないので・・"
      ],
      "metadata": {
        "id": "sodc3abWci2-"
      }
    },
    {
      "cell_type": "code",
      "source": [
        "# 各グループの平均を確認\n",
        "print(f'Group A の平均 = {a.mean():.2f}')\n",
        "print(f'Group B の平均 = {b.mean():.2f}')\n",
        "print(f'2群の平均の差 = {(abs(a.mean()-b.mean())):.2f}')"
      ],
      "metadata": {
        "colab": {
          "base_uri": "https://localhost:8080/"
        },
        "id": "s5CZEaitcdYn",
        "outputId": "d40cef55-44f1-4d80-88e9-95db920b4dc7"
      },
      "execution_count": 55,
      "outputs": [
        {
          "output_type": "stream",
          "name": "stdout",
          "text": [
            "Group A の平均 = 73.48\n",
            "Group B の平均 = 64.21\n",
            "2群の平均の差 = 9.28\n"
          ]
        }
      ]
    },
    {
      "cell_type": "markdown",
      "source": [
        "## 対応のある t 検定\n",
        "Group A と Group B には対応があるという前提で検定します。  \n",
        "つまり、同じメンバーに対して異なる条件で行なった実験結果と考えます。"
      ],
      "metadata": {
        "id": "6SJaS73fgiH-"
      }
    },
    {
      "cell_type": "code",
      "source": [
        "# 対応のある検定は ttest_rel\n",
        "t, p = stats.ttest_rel(a, b)\n",
        "\n",
        "print('Studentのt検定｜対応あり')\n",
        "print(f'p値 = {p:.3f}')\n",
        "print(f't値 = {t:.2f}')"
      ],
      "metadata": {
        "colab": {
          "base_uri": "https://localhost:8080/"
        },
        "id": "3NwvysbmeDFb",
        "outputId": "be4aef7b-b5e2-40d3-890d-d9bdaa603a00"
      },
      "execution_count": 56,
      "outputs": [
        {
          "output_type": "stream",
          "name": "stdout",
          "text": [
            "Studentのt検定｜対応あり\n",
            "p値 = 0.010\n",
            "t値 = 2.77\n"
          ]
        }
      ]
    },
    {
      "cell_type": "markdown",
      "source": [
        "実行例の場合、p<0.05 で「有意差あり」（帰無仮説は棄却）と判定されます。"
      ],
      "metadata": {
        "id": "yRQwFQJAns1p"
      }
    },
    {
      "cell_type": "markdown",
      "source": [
        "## 対応のない t 検定\n",
        "\n",
        "Group A と Group B には対応がないという前提で検定します。  *斜体テキスト*\n",
        "つまり、異なるメンバーにそれぞれ異なる条件で行なった実験結果と考えます。"
      ],
      "metadata": {
        "id": "qHDLnYMshnku"
      }
    },
    {
      "cell_type": "code",
      "source": [
        "# 対応のない検定は ttest_ind\n",
        "t, p = stats.ttest_ind(a, b, equal_var=True)\n",
        "\n",
        "print('Studentのt検定｜対応なし')\n",
        "print(f'p値 = {p:.3f}')\n",
        "print(f't値 = {t:.2f}')"
      ],
      "metadata": {
        "colab": {
          "base_uri": "https://localhost:8080/"
        },
        "id": "aNnV32J3hsdn",
        "outputId": "3279d3ed-a745-467d-ac4e-6f1b42de8359"
      },
      "execution_count": 57,
      "outputs": [
        {
          "output_type": "stream",
          "name": "stdout",
          "text": [
            "Studentのt検定｜対応なし\n",
            "p値 = 0.009\n",
            "t値 = 2.69\n"
          ]
        }
      ]
    },
    {
      "cell_type": "markdown",
      "source": [
        "実行例の場合、p<0.05 で「有意差あり」（帰無仮説は棄却）と判定されます。"
      ],
      "metadata": {
        "id": "iZ7YV33XogOD"
      }
    },
    {
      "cell_type": "markdown",
      "source": [
        "## 対応のない t 検定（等分散性なし）\n",
        "等分散性がないと仮定した場合には、Welchの t検定はを利用します。  \n",
        "ttest_ind 関数の引数 equal_var を False とすることで Welch の方法が採用されます。"
      ],
      "metadata": {
        "id": "NVaDSgirfe7K"
      }
    },
    {
      "cell_type": "code",
      "source": [
        "# 等分散性が仮定できない場合 ttest_ind で equal_var=False\n",
        "t, p = stats.ttest_ind(a, b, equal_var=False)\n",
        "\n",
        "print('Welchのt検定｜対応なし｜等分散性なし')\n",
        "print(f'p値 = {p:.3f}')\n",
        "print(f't値 = {t:.2f}')"
      ],
      "metadata": {
        "colab": {
          "base_uri": "https://localhost:8080/"
        },
        "id": "iXDXS_66gYU3",
        "outputId": "f2c72833-9733-4f9f-9eb7-85588af49f50"
      },
      "execution_count": 58,
      "outputs": [
        {
          "output_type": "stream",
          "name": "stdout",
          "text": [
            "Welchのt検定｜対応なし｜等分散性なし\n",
            "p値 = 0.010\n",
            "t値 = 2.69\n"
          ]
        }
      ]
    },
    {
      "cell_type": "markdown",
      "source": [
        "実行例の場合、p<0.05 で「有意差あり」（帰無仮説は棄却）と判定されます。"
      ],
      "metadata": {
        "id": "ISflb9Iyoh7S"
      }
    }
  ]
}