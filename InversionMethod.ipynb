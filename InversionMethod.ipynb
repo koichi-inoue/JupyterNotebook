{
  "nbformat": 4,
  "nbformat_minor": 0,
  "metadata": {
    "colab": {
      "provenance": [],
      "authorship_tag": "ABX9TyMcgUigUUXfimsC/QPBu4cL"
    },
    "kernelspec": {
      "name": "python3",
      "display_name": "Python 3"
    },
    "language_info": {
      "name": "python"
    }
  },
  "cells": [
    {
      "cell_type": "markdown",
      "source": [
        "# 逆関数法\n",
        "### 標準一様乱数から逆関数を使って指数分布の乱数を生成"
      ],
      "metadata": {
        "id": "V4ZG2e-K-vmv"
      }
    },
    {
      "cell_type": "code",
      "source": [
        "# ライブラリの読み込み\n",
        "import numpy as np\n",
        "import matplotlib.pyplot as plt\n",
        "\n",
        "# 期待値（ μ = 1/λ ）の定義\n",
        "mu = 0.5\n",
        "\n",
        "# 標準一様乱数を 10,000個 numpy配列へ \n",
        "U = np.random.random(size = 10000)\n",
        "\n",
        "# 標準一様乱数から指数分布の乱数へ変換\n",
        "x = - mu * np.log( 1.0 - U )\n",
        "\n",
        "# bin（ヒストグラムの棒）の数を指定して描画\n",
        "plt.hist(x,bins=50)"
      ],
      "metadata": {
        "colab": {
          "base_uri": "https://localhost:8080/",
          "height": 682
        },
        "id": "ouXFEKVo2cQv",
        "outputId": "ad57210e-324b-4cbc-94b5-ccee1f7c472f"
      },
      "execution_count": 49,
      "outputs": [
        {
          "output_type": "execute_result",
          "data": {
            "text/plain": [
              "(array([1.692e+03, 1.392e+03, 1.198e+03, 1.007e+03, 8.340e+02, 6.200e+02,\n",
              "        5.920e+02, 4.030e+02, 4.060e+02, 2.990e+02, 2.810e+02, 1.900e+02,\n",
              "        1.680e+02, 1.590e+02, 1.460e+02, 8.600e+01, 8.900e+01, 7.400e+01,\n",
              "        7.100e+01, 4.700e+01, 3.900e+01, 4.000e+01, 3.300e+01, 2.200e+01,\n",
              "        2.300e+01, 1.700e+01, 1.200e+01, 8.000e+00, 9.000e+00, 4.000e+00,\n",
              "        6.000e+00, 6.000e+00, 3.000e+00, 7.000e+00, 2.000e+00, 1.000e+00,\n",
              "        4.000e+00, 1.000e+00, 1.000e+00, 2.000e+00, 1.000e+00, 2.000e+00,\n",
              "        0.000e+00, 1.000e+00, 0.000e+00, 0.000e+00, 0.000e+00, 0.000e+00,\n",
              "        0.000e+00, 2.000e+00]),\n",
              " array([1.60021843e-05, 9.37930906e-02, 1.87570179e-01, 2.81347267e-01,\n",
              "        3.75124356e-01, 4.68901444e-01, 5.62678533e-01, 6.56455621e-01,\n",
              "        7.50232710e-01, 8.44009798e-01, 9.37786887e-01, 1.03156397e+00,\n",
              "        1.12534106e+00, 1.21911815e+00, 1.31289524e+00, 1.40667233e+00,\n",
              "        1.50044942e+00, 1.59422651e+00, 1.68800359e+00, 1.78178068e+00,\n",
              "        1.87555777e+00, 1.96933486e+00, 2.06311195e+00, 2.15688904e+00,\n",
              "        2.25066612e+00, 2.34444321e+00, 2.43822030e+00, 2.53199739e+00,\n",
              "        2.62577448e+00, 2.71955157e+00, 2.81332866e+00, 2.90710574e+00,\n",
              "        3.00088283e+00, 3.09465992e+00, 3.18843701e+00, 3.28221410e+00,\n",
              "        3.37599119e+00, 3.46976827e+00, 3.56354536e+00, 3.65732245e+00,\n",
              "        3.75109954e+00, 3.84487663e+00, 3.93865372e+00, 4.03243080e+00,\n",
              "        4.12620789e+00, 4.21998498e+00, 4.31376207e+00, 4.40753916e+00,\n",
              "        4.50131625e+00, 4.59509334e+00, 4.68887042e+00]),\n",
              " <a list of 50 Patch objects>)"
            ]
          },
          "metadata": {},
          "execution_count": 49
        },
        {
          "output_type": "display_data",
          "data": {
            "text/plain": [
              "<Figure size 432x288 with 1 Axes>"
            ],
            "image/png": "[encoded data removed]"
          },
          "metadata": {
            "needs_background": "light"
          }
        }
      ]
    },
    {
      "cell_type": "markdown",
      "source": [
        "### NumPy の Generator を使って指数分布の乱数を生成（逆関数法との比較確認）"
      ],
      "metadata": {
        "id": "WP4CPsDmNoTD"
      }
    },
    {
      "cell_type": "code",
      "source": [
        "# 平均 0.5 の 指数分布の乱数を 10000個生成\n",
        "x = np.random.exponential(0.5, 10000)\n",
        "\n",
        "# bin（ヒストグラムの棒）の数を指定して描画\n",
        "plt.hist(x,bins=50)"
      ],
      "metadata": {
        "colab": {
          "base_uri": "https://localhost:8080/",
          "height": 682
        },
        "id": "4wMwh4b5Mg14",
        "outputId": "07cd3629-dc93-4523-c4a6-d178d0df12ab"
      },
      "execution_count": 50,
      "outputs": [
        {
          "output_type": "execute_result",
          "data": {
            "text/plain": [
              "(array([1.758e+03, 1.446e+03, 1.210e+03, 1.003e+03, 7.700e+02, 6.860e+02,\n",
              "        5.950e+02, 4.150e+02, 3.800e+02, 3.050e+02, 2.530e+02, 2.130e+02,\n",
              "        1.760e+02, 1.440e+02, 1.110e+02, 8.700e+01, 8.200e+01, 7.900e+01,\n",
              "        5.700e+01, 4.200e+01, 3.200e+01, 2.700e+01, 3.000e+01, 1.700e+01,\n",
              "        1.600e+01, 1.600e+01, 8.000e+00, 7.000e+00, 8.000e+00, 7.000e+00,\n",
              "        1.000e+00, 5.000e+00, 0.000e+00, 0.000e+00, 2.000e+00, 3.000e+00,\n",
              "        1.000e+00, 1.000e+00, 0.000e+00, 2.000e+00, 0.000e+00, 0.000e+00,\n",
              "        0.000e+00, 1.000e+00, 0.000e+00, 1.000e+00, 0.000e+00, 1.000e+00,\n",
              "        1.000e+00, 1.000e+00]),\n",
              " array([2.29218228e-05, 9.90347644e-02, 1.98046607e-01, 2.97058450e-01,\n",
              "        3.96070292e-01, 4.95082135e-01, 5.94093977e-01, 6.93105820e-01,\n",
              "        7.92117663e-01, 8.91129505e-01, 9.90141348e-01, 1.08915319e+00,\n",
              "        1.18816503e+00, 1.28717688e+00, 1.38618872e+00, 1.48520056e+00,\n",
              "        1.58421240e+00, 1.68322425e+00, 1.78223609e+00, 1.88124793e+00,\n",
              "        1.98025977e+00, 2.07927162e+00, 2.17828346e+00, 2.27729530e+00,\n",
              "        2.37630714e+00, 2.47531899e+00, 2.57433083e+00, 2.67334267e+00,\n",
              "        2.77235451e+00, 2.87136636e+00, 2.97037820e+00, 3.06939004e+00,\n",
              "        3.16840188e+00, 3.26741373e+00, 3.36642557e+00, 3.46543741e+00,\n",
              "        3.56444926e+00, 3.66346110e+00, 3.76247294e+00, 3.86148478e+00,\n",
              "        3.96049663e+00, 4.05950847e+00, 4.15852031e+00, 4.25753215e+00,\n",
              "        4.35654400e+00, 4.45555584e+00, 4.55456768e+00, 4.65357952e+00,\n",
              "        4.75259137e+00, 4.85160321e+00, 4.95061505e+00]),\n",
              " <a list of 50 Patch objects>)"
            ]
          },
          "metadata": {},
          "execution_count": 50
        },
        {
          "output_type": "display_data",
          "data": {
            "text/plain": [
              "<Figure size 432x288 with 1 Axes>"
            ],
            "image/png": "[encoded data removed]"
          },
          "metadata": {
            "needs_background": "light"
          }
        }
      ]
    }
  ]
}