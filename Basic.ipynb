{
  "nbformat": 4,
  "nbformat_minor": 0,
  "metadata": {
    "colab": {
      "name": "Basic.ipynb",
      "version": "0.3.2",
      "provenance": [],
      "collapsed_sections": [],
      "include_colab_link": true
    },
    "kernelspec": {
      "name": "python3",
      "display_name": "Python 3"
    }
  },
  "cells": [
    {
      "cell_type": "markdown",
      "metadata": {
        "id": "view-in-github",
        "colab_type": "text"
      },
      "source": [
        "[View in Colaboratory](https://colab.research.google.com/github/koichi-inoue/JupyterNotebook/blob/master/Basic.ipynb)"
      ]
    },
    {
      "metadata": {
        "id": "BGFz6Dee2Erj",
        "colab_type": "code",
        "colab": {
          "base_uri": "https://localhost:8080/",
          "height": 198
        },
        "outputId": "2ddb433e-b72a-49b3-c53f-75b54102c58f"
      },
      "cell_type": "code",
      "source": [
        "#!/usr/bin/env python3\n",
        "# -*- coding: utf-8 -*-\n",
        "\"\"\"\n",
        "Created on Tue Jun 12 21:16:27 2018\n",
        "\n",
        "@author: links\n",
        "\"\"\"\n",
        "\n",
        "import tensorflow as tf\n",
        "import numpy as np\n",
        "\n",
        "# Create 100 phony x, y data points in NumPy, y = x * 0.1 + 0.3\n",
        "x_data = np.random.rand(100).astype(np.float32)\n",
        "y_data = x_data * 2.0 + 1.5\n",
        "\n",
        "# Try to find values for W and b \n",
        "W = tf.Variable(tf.random_uniform([1], -1.0, 1.0))\n",
        "b = tf.Variable(tf.zeros([1]))\n",
        "y = W * x_data + b\n",
        "\n",
        "# Minimize the mean squared errors.\n",
        "loss = tf.reduce_mean(tf.square(y - y_data))\n",
        "optimizer = tf.train.GradientDescentOptimizer(0.5)\n",
        "train = optimizer.minimize(loss)\n",
        "\n",
        "# Before starting, initialize the variables.  We will 'run' this first.\n",
        "init = tf.global_variables_initializer()\n",
        "\n",
        "# Launch the graph.\n",
        "sess = tf.Session()\n",
        "sess.run(init)\n",
        "\n",
        "# Fit the line.\n",
        "for step in range(200):\n",
        "    sess.run(train)\n",
        "    if step % 20 == 0:\n",
        "        print(step, sess.run(W), sess.run(b))\n",
        "\n",
        "# best fit is W: [2.0], b: [1.5]\n",
        "\n"
      ],
      "execution_count": 2,
      "outputs": [
        {
          "output_type": "stream",
          "text": [
            "0 [1.9197078] [2.06153]\n",
            "20 [1.9400953] [1.5309578]\n",
            "40 [1.987727] [1.5063424]\n",
            "60 [1.9974858] [1.5012993]\n",
            "80 [1.9994849] [1.5002662]\n",
            "100 [1.9998945] [1.5000545]\n",
            "120 [1.9999783] [1.5000112]\n",
            "140 [1.9999956] [1.5000023]\n",
            "160 [1.9999992] [1.5000005]\n",
            "180 [1.9999993] [1.5000004]\n"
          ],
          "name": "stdout"
        }
      ]
    },
    {
      "metadata": {
        "id": "w-JvFMsUv4VV",
        "colab_type": "code",
        "colab": {
          "base_uri": "https://localhost:8080/",
          "height": 35
        },
        "outputId": "dc20bf9b-e663-4187-c3c2-2ff80e60453e"
      },
      "cell_type": "code",
      "source": [
        "%pwd"
      ],
      "execution_count": 1,
      "outputs": [
        {
          "output_type": "execute_result",
          "data": {
            "text/plain": [
              "'/content'"
            ]
          },
          "metadata": {
            "tags": []
          },
          "execution_count": 1
        }
      ]
    }
  ]
}