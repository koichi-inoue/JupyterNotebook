{
  "nbformat": 4,
  "nbformat_minor": 0,
  "metadata": {
    "colab": {
      "name": "Basic.ipynb",
      "version": "0.3.2",
      "provenance": [],
      "collapsed_sections": [],
      "include_colab_link": true
    },
    "kernelspec": {
      "name": "python3",
      "display_name": "Python 3"
    }
  },
  "cells": [
    {
      "cell_type": "markdown",
      "metadata": {
        "id": "view-in-github",
        "colab_type": "text"
      },
      "source": [
        "[View in Colaboratory](https://colab.research.google.com/github/koichi-inoue/JupyterNotebook/blob/master/Basic.ipynb)"
      ]
    },
    {
      "metadata": {
        "id": "BGFz6Dee2Erj",
        "colab_type": "code",
        "colab": {
          "base_uri": "https://localhost:8080/",
          "height": 198
        },
        "outputId": "41b40c3b-e218-457d-cda1-6820509458eb"
      },
      "cell_type": "code",
      "source": [
        "import tensorflow as tf\n",
        "import numpy as np\n",
        "\n",
        "# Create 100 phony x, y data points in NumPy, y = x * 0.1 + 0.3\n",
        "x_data = np.random.rand(100).astype(np.float32)\n",
        "y_data = x_data * 2.0 + 1.5\n",
        "\n",
        "# Try to find values for W and b \n",
        "W = tf.Variable(tf.random_uniform([1], -1.0, 1.0))\n",
        "b = tf.Variable(tf.zeros([1]))\n",
        "y = W * x_data + b\n",
        "\n",
        "# Minimize the mean squared errors.\n",
        "loss = tf.reduce_mean(tf.square(y - y_data))\n",
        "optimizer = tf.train.GradientDescentOptimizer(0.5)\n",
        "train = optimizer.minimize(loss)\n",
        "\n",
        "# Before starting, initialize the variables.  We will 'run' this first.\n",
        "init = tf.global_variables_initializer()\n",
        "\n",
        "# Launch the graph.\n",
        "sess = tf.Session()\n",
        "sess.run(init)\n",
        "\n",
        "# Fit the line.\n",
        "for step in range(200):\n",
        "    sess.run(train)\n",
        "    if step % 20 == 0:\n",
        "        print(step, sess.run(W), sess.run(b))\n",
        "\n",
        "# best fit is W: [2.0], b: [1.5]\n",
        "\n"
      ],
      "execution_count": 3,
      "outputs": [
        {
          "output_type": "stream",
          "text": [
            "0 [2.0660293] [2.0315754]\n",
            "20 [1.9525993] [1.5256443]\n",
            "40 [1.9868907] [1.5070922]\n",
            "60 [1.9963745] [1.5019615]\n",
            "80 [1.9989973] [1.5005424]\n",
            "100 [1.9997227] [1.50015]\n",
            "120 [1.9999233] [1.5000415]\n",
            "140 [1.9999788] [1.5000114]\n",
            "160 [1.999994] [1.5000032]\n",
            "180 [1.9999985] [1.5000008]\n"
          ],
          "name": "stdout"
        }
      ]
    },
    {
      "metadata": {
        "id": "w-JvFMsUv4VV",
        "colab_type": "code",
        "colab": {
          "base_uri": "https://localhost:8080/",
          "height": 35
        },
        "outputId": "dc20bf9b-e663-4187-c3c2-2ff80e60453e"
      },
      "cell_type": "code",
      "source": [
        "%pwd"
      ],
      "execution_count": 1,
      "outputs": [
        {
          "output_type": "execute_result",
          "data": {
            "text/plain": [
              "'/content'"
            ]
          },
          "metadata": {
            "tags": []
          },
          "execution_count": 1
        }
      ]
    }
  ]
}