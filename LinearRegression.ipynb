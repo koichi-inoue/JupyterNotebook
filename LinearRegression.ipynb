{
  "nbformat": 4,
  "nbformat_minor": 0,
  "metadata": {
    "colab": {
      "name": "LinearRegression.ipynb",
      "provenance": [],
      "collapsed_sections": [],
      "include_colab_link": true
    },
    "kernelspec": {
      "name": "python3",
      "display_name": "Python 3"
    }
  },
  "cells": [
    {
      "cell_type": "markdown",
      "metadata": {
        "id": "view-in-github",
        "colab_type": "text"
      },
      "source": [
        "<a href=\"https://colab.research.google.com/github/koichi-inoue/JupyterNotebook/blob/master/LinearRegression.ipynb\" target=\"_parent\"><img src=\"https://colab.research.google.com/assets/colab-badge.svg\" alt=\"Open In Colab\"/></a>"
      ]
    },
    {
      "cell_type": "markdown",
      "metadata": {
        "id": "uShipQes_piv",
        "colab_type": "text"
      },
      "source": [
        "# 線形回帰\n"
      ]
    },
    {
      "cell_type": "markdown",
      "metadata": {
        "id": "JO3aJ_u8aJtF",
        "colab_type": "text"
      },
      "source": [
        "## サンプルデータの読み込み"
      ]
    },
    {
      "cell_type": "code",
      "metadata": {
        "id": "1fI5THcQls8y",
        "colab_type": "code",
        "colab": {
          "base_uri": "https://localhost:8080/",
          "height": 206
        },
        "outputId": "f130d2ac-91e7-4c94-d007-4fbd5b1e0b9e"
      },
      "source": [
        "# ボストン市の住宅価格データセットの読み込み\n",
        "from sklearn.datasets import load_boston\n",
        "boston = load_boston() \n",
        "\n",
        "import pandas as pd\n",
        "\n",
        "# 説明変数(boston.data)をDataFrameに保存\n",
        "boston_df = pd.DataFrame(boston.data, columns = boston.feature_names) \n",
        "# 目的変数(boston.target)もDataFrameに追加\n",
        "boston_df['MEDV'] = boston.target \n",
        "# データの様子を確認\n",
        "boston_df.head()"
      ],
      "execution_count": 6,
      "outputs": [
        {
          "output_type": "execute_result",
          "data": {
            "text/html": [
              "<div>\n",
              "<style scoped>\n",
              "    .dataframe tbody tr th:only-of-type {\n",
              "        vertical-align: middle;\n",
              "    }\n",
              "\n",
              "    .dataframe tbody tr th {\n",
              "        vertical-align: top;\n",
              "    }\n",
              "\n",
              "    .dataframe thead th {\n",
              "        text-align: right;\n",
              "    }\n",
              "</style>\n",
              "<table border=\"1\" class=\"dataframe\">\n",
              "  <thead>\n",
              "    <tr style=\"text-align: right;\">\n",
              "      <th></th>\n",
              "      <th>CRIM</th>\n",
              "      <th>ZN</th>\n",
              "      <th>INDUS</th>\n",
              "      <th>CHAS</th>\n",
              "      <th>NOX</th>\n",
              "      <th>RM</th>\n",
              "      <th>AGE</th>\n",
              "      <th>DIS</th>\n",
              "      <th>RAD</th>\n",
              "      <th>TAX</th>\n",
              "      <th>PTRATIO</th>\n",
              "      <th>B</th>\n",
              "      <th>LSTAT</th>\n",
              "      <th>MEDV</th>\n",
              "    </tr>\n",
              "  </thead>\n",
              "  <tbody>\n",
              "    <tr>\n",
              "      <th>0</th>\n",
              "      <td>0.00632</td>\n",
              "      <td>18.0</td>\n",
              "      <td>2.31</td>\n",
              "      <td>0.0</td>\n",
              "      <td>0.538</td>\n",
              "      <td>6.575</td>\n",
              "      <td>65.2</td>\n",
              "      <td>4.0900</td>\n",
              "      <td>1.0</td>\n",
              "      <td>296.0</td>\n",
              "      <td>15.3</td>\n",
              "      <td>396.90</td>\n",
              "      <td>4.98</td>\n",
              "      <td>24.0</td>\n",
              "    </tr>\n",
              "    <tr>\n",
              "      <th>1</th>\n",
              "      <td>0.02731</td>\n",
              "      <td>0.0</td>\n",
              "      <td>7.07</td>\n",
              "      <td>0.0</td>\n",
              "      <td>0.469</td>\n",
              "      <td>6.421</td>\n",
              "      <td>78.9</td>\n",
              "      <td>4.9671</td>\n",
              "      <td>2.0</td>\n",
              "      <td>242.0</td>\n",
              "      <td>17.8</td>\n",
              "      <td>396.90</td>\n",
              "      <td>9.14</td>\n",
              "      <td>21.6</td>\n",
              "    </tr>\n",
              "    <tr>\n",
              "      <th>2</th>\n",
              "      <td>0.02729</td>\n",
              "      <td>0.0</td>\n",
              "      <td>7.07</td>\n",
              "      <td>0.0</td>\n",
              "      <td>0.469</td>\n",
              "      <td>7.185</td>\n",
              "      <td>61.1</td>\n",
              "      <td>4.9671</td>\n",
              "      <td>2.0</td>\n",
              "      <td>242.0</td>\n",
              "      <td>17.8</td>\n",
              "      <td>392.83</td>\n",
              "      <td>4.03</td>\n",
              "      <td>34.7</td>\n",
              "    </tr>\n",
              "    <tr>\n",
              "      <th>3</th>\n",
              "      <td>0.03237</td>\n",
              "      <td>0.0</td>\n",
              "      <td>2.18</td>\n",
              "      <td>0.0</td>\n",
              "      <td>0.458</td>\n",
              "      <td>6.998</td>\n",
              "      <td>45.8</td>\n",
              "      <td>6.0622</td>\n",
              "      <td>3.0</td>\n",
              "      <td>222.0</td>\n",
              "      <td>18.7</td>\n",
              "      <td>394.63</td>\n",
              "      <td>2.94</td>\n",
              "      <td>33.4</td>\n",
              "    </tr>\n",
              "    <tr>\n",
              "      <th>4</th>\n",
              "      <td>0.06905</td>\n",
              "      <td>0.0</td>\n",
              "      <td>2.18</td>\n",
              "      <td>0.0</td>\n",
              "      <td>0.458</td>\n",
              "      <td>7.147</td>\n",
              "      <td>54.2</td>\n",
              "      <td>6.0622</td>\n",
              "      <td>3.0</td>\n",
              "      <td>222.0</td>\n",
              "      <td>18.7</td>\n",
              "      <td>396.90</td>\n",
              "      <td>5.33</td>\n",
              "      <td>36.2</td>\n",
              "    </tr>\n",
              "  </tbody>\n",
              "</table>\n",
              "</div>"
            ],
            "text/plain": [
              "      CRIM    ZN  INDUS  CHAS    NOX  ...    TAX  PTRATIO       B  LSTAT  MEDV\n",
              "0  0.00632  18.0   2.31   0.0  0.538  ...  296.0     15.3  396.90   4.98  24.0\n",
              "1  0.02731   0.0   7.07   0.0  0.469  ...  242.0     17.8  396.90   9.14  21.6\n",
              "2  0.02729   0.0   7.07   0.0  0.469  ...  242.0     17.8  392.83   4.03  34.7\n",
              "3  0.03237   0.0   2.18   0.0  0.458  ...  222.0     18.7  394.63   2.94  33.4\n",
              "4  0.06905   0.0   2.18   0.0  0.458  ...  222.0     18.7  396.90   5.33  36.2\n",
              "\n",
              "[5 rows x 14 columns]"
            ]
          },
          "metadata": {
            "tags": []
          },
          "execution_count": 6
        }
      ]
    },
    {
      "cell_type": "markdown",
      "metadata": {
        "id": "gyJYjS-obJJ7",
        "colab_type": "text"
      },
      "source": [
        "## 参考情報\n",
        "* CRIM：犯罪発生率\n",
        "* ZN：25,000平方フィート以上の住宅区画の割合\n",
        "* INDUS：\t非小売業種の土地面積の割合\n",
        "* CHAS：チャールズ川沿いかを表すダミー変数\n",
        "* NOX：窒素酸化物の濃度\n",
        "* RM：平均部屋数\n",
        "* AGE：1940年より前に建てられた建物の割合\n",
        "* DIS：5つのボストンの雇用施設への重み付き距離\n",
        "* RAD：高速道路へのアクセスのしやすさ\n",
        "* TAX：10,000ドルあたりの不動産税率\n",
        "* PTRATIO：生徒と教師の割合\n",
        "* B：黒人の割合\n",
        "* LSTAT：低所得者の割合\n",
        "* MEDV：住宅価格の中央値（1,000単位）\n",
        "\n",
        "データの項目に差別的なものが含まれていて、学習用のデータとしては適切でない感がありますが、sklearn の標準サンプルということでご了承下さい。"
      ]
    },
    {
      "cell_type": "markdown",
      "metadata": {
        "id": "_T0J0uwwbk7b",
        "colab_type": "text"
      },
      "source": [
        "##  例として、RM（平均部屋数）とMEDV（住宅価格）の相関を視覚化\n"
      ]
    },
    {
      "cell_type": "code",
      "metadata": {
        "id": "9pK9fp2WmCGD",
        "colab_type": "code",
        "colab": {
          "base_uri": "https://localhost:8080/",
          "height": 295
        },
        "outputId": "419dab3b-21d5-4c93-ceef-398faa66c0a0"
      },
      "source": [
        "import matplotlib.pyplot as plt\n",
        "plt.scatter(boston_df['RM'], boston_df['MEDV']) \n",
        "\n",
        "plt.title('Scatter Plot of RM vs MEDV')  \n",
        "plt.xlabel('Average number of rooms [RM]')\n",
        "plt.ylabel('Prices in $1000\\'s [MEDV]')   \n",
        "plt.grid()  \n",
        "\n",
        "plt.show() "
      ],
      "execution_count": 7,
      "outputs": [
        {
          "output_type": "display_data",
          "data": {
            "image/png": "[encoded data removed]",
            "text/plain": [
              "<Figure size 432x288 with 1 Axes>"
            ]
          },
          "metadata": {
            "tags": [],
            "needs_background": "light"
          }
        }
      ]
    }
  ]
}