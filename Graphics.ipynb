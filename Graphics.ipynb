{
  "nbformat": 4,
  "nbformat_minor": 0,
  "metadata": {
    "colab": {
      "provenance": [],
      "authorship_tag": "ABX9TyPD8YjndxHCvyCoOpRXEOPh"
    },
    "kernelspec": {
      "name": "python3",
      "display_name": "Python 3"
    },
    "language_info": {
      "name": "python"
    }
  },
  "cells": [
    {
      "cell_type": "code",
      "metadata": {
        "colab": {
          "base_uri": "https://localhost:8080/",
          "height": 517
        },
        "id": "M8FLdYBZKK8c",
        "outputId": "f3318f78-9913-4c08-bfb9-66e56db23880"
      },
      "source": [
        "# ライブラリの読み込み\n",
        "from IPython.display import display\n",
        "from PIL import Image, ImageDraw, ImageFont\n",
        "\n",
        "# 画像オブジェクトの生成\n",
        "img = Image.new(\"RGB\", (500, 500), (255, 255, 255) )\n",
        "\n",
        "# 描画オブジェクトの生成\n",
        "draw = ImageDraw.Draw(img)\n",
        "\n",
        "# 画像オブジェクトに対する描画\n",
        "draw.line( (0, img.height, img.width, 0) , fill=(255, 0, 0), width = 5 )\n",
        "draw.rectangle( (100, 100, 200, 200) , fill=(255, 255, 0) , outline=( 0, 0, 0) , width = 5 )\n",
        "draw.ellipse( (300, 300, 400, 400) , fill=(0, 255, 255) , outline=( 0, 0, 0) , width = 5 )\n",
        "\n",
        "# 画面に出力\n",
        "display(img)\n"
      ],
      "execution_count": 16,
      "outputs": [
        {
          "output_type": "display_data",
          "data": {
            "text/plain": [
              "<PIL.Image.Image image mode=RGB size=500x500>"
            ],
            "image/png": "[encoded data removed]"
          },
          "metadata": {}
        }
      ]
    }
  ]
}