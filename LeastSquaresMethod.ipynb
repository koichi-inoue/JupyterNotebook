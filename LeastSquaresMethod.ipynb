{
  "nbformat": 4,
  "nbformat_minor": 0,
  "metadata": {
    "colab": {
      "name": "LeastSquaresMethod.ipynb",
      "provenance": [],
      "collapsed_sections": [],
      "include_colab_link": true
    },
    "kernelspec": {
      "name": "python3",
      "display_name": "Python 3"
    },
    "accelerator": "GPU"
  },
  "cells": [
    {
      "cell_type": "markdown",
      "metadata": {
        "id": "view-in-github",
        "colab_type": "text"
      },
      "source": [
        "<a href=\"https://colab.research.google.com/github/koichi-inoue/JupyterNotebook/blob/master/LeastSquaresMethod.ipynb\" target=\"_parent\"><img src=\"https://colab.research.google.com/assets/colab-badge.svg\" alt=\"Open In Colab\"/></a>"
      ]
    },
    {
      "cell_type": "markdown",
      "source": [
        "# 最小二乗法"
      ],
      "metadata": {
        "id": "c64lnrnMpN4G"
      }
    },
    {
      "metadata": {
        "id": "rLVeVbe-umCI",
        "colab": {
          "base_uri": "https://localhost:8080/",
          "height": 281
        },
        "outputId": "a8c88009-f9c3-48a1-ecfb-1a19ba7c5249"
      },
      "cell_type": "code",
      "source": [
        "#ライブラリの読み込み\n",
        "import numpy as np\n",
        "import matplotlib.pyplot as plt\n",
        "\n",
        "# 説明変数と目的変数を定義\n",
        "X = np.array( [2.0, 3.0, 4.0] )\n",
        "Y = np.array( [5.0, 6.0, 9.0] )\n",
        "\n",
        "# 最小二乗法\n",
        "A = np.array( [X, np.ones(len(X)) ] )\n",
        "AT = A.T \n",
        "a,b = np.linalg.lstsq( AT, Y, rcond=None )[0]\n",
        "\n",
        "# グラフの表示\n",
        "plt.plot( X, Y, \"ro\")\n",
        "plt.plot( X, ( a*X+b ), \"g--\")\n",
        "plt.title( \"a=\"+ str(a) + \" ,  b=\" + str(b) )\n",
        "plt.show()\n"
      ],
      "execution_count": 3,
      "outputs": [
        {
          "output_type": "display_data",
          "data": {
            "image/png": "[encoded data removed]",
            "text/plain": [
              "<Figure size 432x288 with 1 Axes>"
            ]
          },
          "metadata": {
            "needs_background": "light"
          }
        }
      ]
    }
  ]
}