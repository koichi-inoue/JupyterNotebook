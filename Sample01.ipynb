{
  "nbformat": 4,
  "nbformat_minor": 0,
  "metadata": {
    "colab": {
      "name": "Sample01.ipynb",
      "provenance": [],
      "collapsed_sections": [],
      "authorship_tag": "ABX9TyNXYqSGa5JPatOX/kMzatZY",
      "include_colab_link": true
    },
    "kernelspec": {
      "name": "python3",
      "display_name": "Python 3"
    }
  },
  "cells": [
    {
      "cell_type": "markdown",
      "metadata": {
        "id": "view-in-github",
        "colab_type": "text"
      },
      "source": [
        "<a href=\"https://colab.research.google.com/github/koichi-inoue/JupyterNotebook/blob/master/Sample01.ipynb\" target=\"_parent\"><img src=\"https://colab.research.google.com/assets/colab-badge.svg\" alt=\"Open In Colab\"/></a>"
      ]
    },
    {
      "cell_type": "markdown",
      "metadata": {
        "id": "uP5TVlvQ8qK2"
      },
      "source": [
        "# データの読み込み"
      ]
    },
    {
      "cell_type": "code",
      "metadata": {
        "colab": {
          "base_uri": "https://localhost:8080/"
        },
        "id": "UXV80fPx3ArZ",
        "outputId": "dee9d514-638c-4d77-e9ba-1283f38ccfa8"
      },
      "source": [
        "from google.colab import drive\n",
        "drive.mount('/content/drive')"
      ],
      "execution_count": 1,
      "outputs": [
        {
          "output_type": "stream",
          "text": [
            "Mounted at /content/drive\n"
          ],
          "name": "stdout"
        }
      ]
    },
    {
      "cell_type": "code",
      "metadata": {
        "colab": {
          "base_uri": "https://localhost:8080/",
          "height": 424
        },
        "id": "LtrGbiim4o3R",
        "outputId": "305cb1dc-23a2-4817-ae5c-a422084ade1a"
      },
      "source": [
        "#pandasをインポート\n",
        "import pandas as pd\n",
        "\n",
        "# DataSample.xlsx の読み込み\n",
        "df = pd.read_excel('/content/drive/My Drive/Colab Notebooks/DataSample.xlsx')\n",
        "\n",
        "df"
      ],
      "execution_count": 2,
      "outputs": [
        {
          "output_type": "execute_result",
          "data": {
            "text/html": [
              "<div>\n",
              "<style scoped>\n",
              "    .dataframe tbody tr th:only-of-type {\n",
              "        vertical-align: middle;\n",
              "    }\n",
              "\n",
              "    .dataframe tbody tr th {\n",
              "        vertical-align: top;\n",
              "    }\n",
              "\n",
              "    .dataframe thead th {\n",
              "        text-align: right;\n",
              "    }\n",
              "</style>\n",
              "<table border=\"1\" class=\"dataframe\">\n",
              "  <thead>\n",
              "    <tr style=\"text-align: right;\">\n",
              "      <th></th>\n",
              "      <th>ID</th>\n",
              "      <th>Gender</th>\n",
              "      <th>GPA</th>\n",
              "      <th>Attendance</th>\n",
              "      <th>Japanese</th>\n",
              "      <th>English</th>\n",
              "      <th>Mathematics</th>\n",
              "      <th>Prefecture</th>\n",
              "    </tr>\n",
              "  </thead>\n",
              "  <tbody>\n",
              "    <tr>\n",
              "      <th>0</th>\n",
              "      <td>1</td>\n",
              "      <td>M</td>\n",
              "      <td>1.355</td>\n",
              "      <td>0.58</td>\n",
              "      <td>64.0</td>\n",
              "      <td>7.0</td>\n",
              "      <td>35.0</td>\n",
              "      <td>長崎県</td>\n",
              "    </tr>\n",
              "    <tr>\n",
              "      <th>1</th>\n",
              "      <td>2</td>\n",
              "      <td>F</td>\n",
              "      <td>1.847</td>\n",
              "      <td>0.65</td>\n",
              "      <td>NaN</td>\n",
              "      <td>NaN</td>\n",
              "      <td>NaN</td>\n",
              "      <td>福岡県</td>\n",
              "    </tr>\n",
              "    <tr>\n",
              "      <th>2</th>\n",
              "      <td>3</td>\n",
              "      <td>M</td>\n",
              "      <td>3.261</td>\n",
              "      <td>0.96</td>\n",
              "      <td>62.0</td>\n",
              "      <td>63.0</td>\n",
              "      <td>30.0</td>\n",
              "      <td>福岡県</td>\n",
              "    </tr>\n",
              "    <tr>\n",
              "      <th>3</th>\n",
              "      <td>4</td>\n",
              "      <td>M</td>\n",
              "      <td>2.320</td>\n",
              "      <td>0.93</td>\n",
              "      <td>58.0</td>\n",
              "      <td>56.0</td>\n",
              "      <td>45.0</td>\n",
              "      <td>福岡県</td>\n",
              "    </tr>\n",
              "    <tr>\n",
              "      <th>4</th>\n",
              "      <td>5</td>\n",
              "      <td>F</td>\n",
              "      <td>0.000</td>\n",
              "      <td>0.30</td>\n",
              "      <td>70.0</td>\n",
              "      <td>26.0</td>\n",
              "      <td>40.0</td>\n",
              "      <td>福岡県</td>\n",
              "    </tr>\n",
              "    <tr>\n",
              "      <th>...</th>\n",
              "      <td>...</td>\n",
              "      <td>...</td>\n",
              "      <td>...</td>\n",
              "      <td>...</td>\n",
              "      <td>...</td>\n",
              "      <td>...</td>\n",
              "      <td>...</td>\n",
              "      <td>...</td>\n",
              "    </tr>\n",
              "    <tr>\n",
              "      <th>516</th>\n",
              "      <td>517</td>\n",
              "      <td>M</td>\n",
              "      <td>2.419</td>\n",
              "      <td>0.83</td>\n",
              "      <td>70.0</td>\n",
              "      <td>85.0</td>\n",
              "      <td>NaN</td>\n",
              "      <td>熊本県</td>\n",
              "    </tr>\n",
              "    <tr>\n",
              "      <th>517</th>\n",
              "      <td>518</td>\n",
              "      <td>M</td>\n",
              "      <td>1.716</td>\n",
              "      <td>0.84</td>\n",
              "      <td>62.0</td>\n",
              "      <td>12.0</td>\n",
              "      <td>NaN</td>\n",
              "      <td>福岡県</td>\n",
              "    </tr>\n",
              "    <tr>\n",
              "      <th>518</th>\n",
              "      <td>519</td>\n",
              "      <td>M</td>\n",
              "      <td>1.629</td>\n",
              "      <td>0.88</td>\n",
              "      <td>42.0</td>\n",
              "      <td>16.0</td>\n",
              "      <td>NaN</td>\n",
              "      <td>福岡県</td>\n",
              "    </tr>\n",
              "    <tr>\n",
              "      <th>519</th>\n",
              "      <td>520</td>\n",
              "      <td>M</td>\n",
              "      <td>1.490</td>\n",
              "      <td>0.78</td>\n",
              "      <td>56.0</td>\n",
              "      <td>NaN</td>\n",
              "      <td>NaN</td>\n",
              "      <td>福岡県</td>\n",
              "    </tr>\n",
              "    <tr>\n",
              "      <th>520</th>\n",
              "      <td>521</td>\n",
              "      <td>M</td>\n",
              "      <td>2.378</td>\n",
              "      <td>0.92</td>\n",
              "      <td>54.0</td>\n",
              "      <td>19.0</td>\n",
              "      <td>40.0</td>\n",
              "      <td>福岡県</td>\n",
              "    </tr>\n",
              "  </tbody>\n",
              "</table>\n",
              "<p>521 rows × 8 columns</p>\n",
              "</div>"
            ],
            "text/plain": [
              "      ID Gender    GPA  Attendance  Japanese  English  Mathematics Prefecture\n",
              "0      1      M  1.355        0.58      64.0      7.0         35.0        長崎県\n",
              "1      2      F  1.847        0.65       NaN      NaN          NaN        福岡県\n",
              "2      3      M  3.261        0.96      62.0     63.0         30.0        福岡県\n",
              "3      4      M  2.320        0.93      58.0     56.0         45.0        福岡県\n",
              "4      5      F  0.000        0.30      70.0     26.0         40.0        福岡県\n",
              "..   ...    ...    ...         ...       ...      ...          ...        ...\n",
              "516  517      M  2.419        0.83      70.0     85.0          NaN        熊本県\n",
              "517  518      M  1.716        0.84      62.0     12.0          NaN        福岡県\n",
              "518  519      M  1.629        0.88      42.0     16.0          NaN        福岡県\n",
              "519  520      M  1.490        0.78      56.0      NaN          NaN        福岡県\n",
              "520  521      M  2.378        0.92      54.0     19.0         40.0        福岡県\n",
              "\n",
              "[521 rows x 8 columns]"
            ]
          },
          "metadata": {
            "tags": []
          },
          "execution_count": 2
        }
      ]
    },
    {
      "cell_type": "markdown",
      "metadata": {
        "id": "hc-fkp8e8mx2"
      },
      "source": [
        "# データの基本情報\n",
        "*   count：データ件数\n",
        "*   mean：平均\n",
        "*   std：標準偏差\n",
        "*   min：最小値\n",
        "*   max：最大値\n",
        "\n"
      ]
    },
    {
      "cell_type": "code",
      "metadata": {
        "colab": {
          "base_uri": "https://localhost:8080/"
        },
        "id": "MYcMCjZR7pm5",
        "outputId": "d1a3590a-63d5-4069-b9d6-336423471c57"
      },
      "source": [
        "# データフレームの基本情報\n",
        "print('行数・列数：', df.shape)\n",
        "print('項目名：', df.columns)\n",
        "print('各列のデータ型：\\n', df.dtypes)"
      ],
      "execution_count": 3,
      "outputs": [
        {
          "output_type": "stream",
          "text": [
            "行数・列数： (521, 8)\n",
            "項目名： Index(['ID', 'Gender', 'GPA', 'Attendance', 'Japanese', 'English',\n",
            "       'Mathematics', 'Prefecture'],\n",
            "      dtype='object')\n",
            "各列のデータ型：\n",
            " ID               int64\n",
            "Gender          object\n",
            "GPA            float64\n",
            "Attendance     float64\n",
            "Japanese       float64\n",
            "English        float64\n",
            "Mathematics    float64\n",
            "Prefecture      object\n",
            "dtype: object\n"
          ],
          "name": "stdout"
        }
      ]
    },
    {
      "cell_type": "code",
      "metadata": {
        "id": "wLuMYb3jB6jC"
      },
      "source": [
        "# ID のデータ型を数値から文字列に変換\n",
        "df['ID'] =  df['ID'].astype(str)"
      ],
      "execution_count": 5,
      "outputs": []
    },
    {
      "cell_type": "code",
      "metadata": {
        "colab": {
          "base_uri": "https://localhost:8080/",
          "height": 300
        },
        "id": "9wAD1dbF8bTe",
        "outputId": "c1820640-06ee-479c-b997-e69c152f6c98"
      },
      "source": [
        "# 要約統計量を表示\n",
        "df.describe()"
      ],
      "execution_count": 6,
      "outputs": [
        {
          "output_type": "execute_result",
          "data": {
            "text/html": [
              "<div>\n",
              "<style scoped>\n",
              "    .dataframe tbody tr th:only-of-type {\n",
              "        vertical-align: middle;\n",
              "    }\n",
              "\n",
              "    .dataframe tbody tr th {\n",
              "        vertical-align: top;\n",
              "    }\n",
              "\n",
              "    .dataframe thead th {\n",
              "        text-align: right;\n",
              "    }\n",
              "</style>\n",
              "<table border=\"1\" class=\"dataframe\">\n",
              "  <thead>\n",
              "    <tr style=\"text-align: right;\">\n",
              "      <th></th>\n",
              "      <th>GPA</th>\n",
              "      <th>Attendance</th>\n",
              "      <th>Japanese</th>\n",
              "      <th>English</th>\n",
              "      <th>Mathematics</th>\n",
              "    </tr>\n",
              "  </thead>\n",
              "  <tbody>\n",
              "    <tr>\n",
              "      <th>count</th>\n",
              "      <td>521.000000</td>\n",
              "      <td>521.000000</td>\n",
              "      <td>495.000000</td>\n",
              "      <td>493.000000</td>\n",
              "      <td>217.000000</td>\n",
              "    </tr>\n",
              "    <tr>\n",
              "      <th>mean</th>\n",
              "      <td>1.977735</td>\n",
              "      <td>0.805451</td>\n",
              "      <td>55.557576</td>\n",
              "      <td>38.880325</td>\n",
              "      <td>39.451613</td>\n",
              "    </tr>\n",
              "    <tr>\n",
              "      <th>std</th>\n",
              "      <td>0.766971</td>\n",
              "      <td>0.129656</td>\n",
              "      <td>13.800495</td>\n",
              "      <td>25.320544</td>\n",
              "      <td>21.797866</td>\n",
              "    </tr>\n",
              "    <tr>\n",
              "      <th>min</th>\n",
              "      <td>0.000000</td>\n",
              "      <td>0.200000</td>\n",
              "      <td>19.000000</td>\n",
              "      <td>0.000000</td>\n",
              "      <td>0.000000</td>\n",
              "    </tr>\n",
              "    <tr>\n",
              "      <th>25%</th>\n",
              "      <td>1.400000</td>\n",
              "      <td>0.730000</td>\n",
              "      <td>46.000000</td>\n",
              "      <td>19.000000</td>\n",
              "      <td>20.000000</td>\n",
              "    </tr>\n",
              "    <tr>\n",
              "      <th>50%</th>\n",
              "      <td>1.909000</td>\n",
              "      <td>0.830000</td>\n",
              "      <td>56.000000</td>\n",
              "      <td>37.000000</td>\n",
              "      <td>40.000000</td>\n",
              "    </tr>\n",
              "    <tr>\n",
              "      <th>75%</th>\n",
              "      <td>2.471000</td>\n",
              "      <td>0.900000</td>\n",
              "      <td>66.000000</td>\n",
              "      <td>57.000000</td>\n",
              "      <td>55.000000</td>\n",
              "    </tr>\n",
              "    <tr>\n",
              "      <th>max</th>\n",
              "      <td>3.786000</td>\n",
              "      <td>0.990000</td>\n",
              "      <td>88.000000</td>\n",
              "      <td>98.000000</td>\n",
              "      <td>100.000000</td>\n",
              "    </tr>\n",
              "  </tbody>\n",
              "</table>\n",
              "</div>"
            ],
            "text/plain": [
              "              GPA  Attendance    Japanese     English  Mathematics\n",
              "count  521.000000  521.000000  495.000000  493.000000   217.000000\n",
              "mean     1.977735    0.805451   55.557576   38.880325    39.451613\n",
              "std      0.766971    0.129656   13.800495   25.320544    21.797866\n",
              "min      0.000000    0.200000   19.000000    0.000000     0.000000\n",
              "25%      1.400000    0.730000   46.000000   19.000000    20.000000\n",
              "50%      1.909000    0.830000   56.000000   37.000000    40.000000\n",
              "75%      2.471000    0.900000   66.000000   57.000000    55.000000\n",
              "max      3.786000    0.990000   88.000000   98.000000   100.000000"
            ]
          },
          "metadata": {
            "tags": []
          },
          "execution_count": 6
        }
      ]
    },
    {
      "cell_type": "code",
      "metadata": {
        "colab": {
          "base_uri": "https://localhost:8080/"
        },
        "id": "r_sxrW7UDtS3",
        "outputId": "64be8cb1-82d7-45db-bba3-5687a208c936"
      },
      "source": [
        "# 欠損値の確認\n",
        "df.isnull().sum()\n"
      ],
      "execution_count": 7,
      "outputs": [
        {
          "output_type": "execute_result",
          "data": {
            "text/plain": [
              "ID               0\n",
              "Gender           0\n",
              "GPA              0\n",
              "Attendance       0\n",
              "Japanese        26\n",
              "English         28\n",
              "Mathematics    304\n",
              "Prefecture       0\n",
              "dtype: int64"
            ]
          },
          "metadata": {
            "tags": []
          },
          "execution_count": 7
        }
      ]
    },
    {
      "cell_type": "code",
      "metadata": {
        "colab": {
          "base_uri": "https://localhost:8080/"
        },
        "id": "-GBql6ZoEvP-",
        "outputId": "476c6261-4f6b-4727-8c75-9ced317564d0"
      },
      "source": [
        "# 欠損値を含む行を削除\n",
        "df = df.dropna(how='any')\n",
        "# 状態の確認\n",
        "print(df.shape)\n",
        "df.isnull().sum()"
      ],
      "execution_count": 8,
      "outputs": [
        {
          "output_type": "stream",
          "text": [
            "(216, 8)\n"
          ],
          "name": "stdout"
        },
        {
          "output_type": "execute_result",
          "data": {
            "text/plain": [
              "ID             0\n",
              "Gender         0\n",
              "GPA            0\n",
              "Attendance     0\n",
              "Japanese       0\n",
              "English        0\n",
              "Mathematics    0\n",
              "Prefecture     0\n",
              "dtype: int64"
            ]
          },
          "metadata": {
            "tags": []
          },
          "execution_count": 8
        }
      ]
    },
    {
      "cell_type": "markdown",
      "metadata": {
        "id": "ab3eEchU9sNF"
      },
      "source": [
        "# データの視覚化\n"
      ]
    },
    {
      "cell_type": "code",
      "metadata": {
        "colab": {
          "base_uri": "https://localhost:8080/",
          "height": 522
        },
        "id": "o5t6rLoD9q9N",
        "outputId": "76e91907-c8ab-4112-cfc2-2b488bfec849"
      },
      "source": [
        "# ヒストグラムの表示\n",
        "df.hist( figsize=(9, 6) )"
      ],
      "execution_count": 9,
      "outputs": [
        {
          "output_type": "execute_result",
          "data": {
            "text/plain": [
              "array([[<matplotlib.axes._subplots.AxesSubplot object at 0x7fb81964c160>,\n",
              "        <matplotlib.axes._subplots.AxesSubplot object at 0x7fb819618400>],\n",
              "       [<matplotlib.axes._subplots.AxesSubplot object at 0x7fb8195c6668>,\n",
              "        <matplotlib.axes._subplots.AxesSubplot object at 0x7fb8195768d0>],\n",
              "       [<matplotlib.axes._subplots.AxesSubplot object at 0x7fb819526b38>,\n",
              "        <matplotlib.axes._subplots.AxesSubplot object at 0x7fb81955cda0>]],\n",
              "      dtype=object)"
            ]
          },
          "metadata": {
            "tags": []
          },
          "execution_count": 9
        },
        {
          "output_type": "display_data",
          "data": {
            "image/png": "[encoded data removed]",
            "text/plain": [
              "<Figure size 648x432 with 6 Axes>"
            ]
          },
          "metadata": {
            "tags": [],
            "needs_background": "light"
          }
        }
      ]
    },
    {
      "cell_type": "code",
      "metadata": {
        "colab": {
          "base_uri": "https://localhost:8080/"
        },
        "id": "PopiBXpS2X3A",
        "outputId": "c5d7e21f-cac6-4ff1-b74f-d4066df458a3"
      },
      "source": [
        "# 相関係数を表示\n",
        "print(df.corr())\n"
      ],
      "execution_count": 15,
      "outputs": [
        {
          "output_type": "stream",
          "text": [
            "                  GPA  Attendance  Japanese   English  Mathematics\n",
            "GPA          1.000000    0.761032  0.239548  0.472655     0.309402\n",
            "Attendance   0.761032    1.000000 -0.022475  0.159457     0.143857\n",
            "Japanese     0.239548   -0.022475  1.000000  0.547091     0.397572\n",
            "English      0.472655    0.159457  0.547091  1.000000     0.479791\n",
            "Mathematics  0.309402    0.143857  0.397572  0.479791     1.000000\n"
          ],
          "name": "stdout"
        }
      ]
    },
    {
      "cell_type": "markdown",
      "metadata": {
        "id": "zyUS4AuV2v3W"
      },
      "source": [
        "* 出席率とGPAには、高い相関（0.761）があることがわかります。\n",
        "* 国語・英語・数学のうち、GPAと最も相関が高いのが「英語（0.473）」です。\n"
      ]
    },
    {
      "cell_type": "code",
      "metadata": {
        "colab": {
          "base_uri": "https://localhost:8080/",
          "height": 298
        },
        "id": "AO5pD8FY3ZkV",
        "outputId": "d478e69f-a50c-4b75-d715-e04b468f8597"
      },
      "source": [
        "# GPA と Attendance の散布図\n",
        "df.plot.scatter(x='GPA', y='Attendance')"
      ],
      "execution_count": 14,
      "outputs": [
        {
          "output_type": "execute_result",
          "data": {
            "text/plain": [
              "<matplotlib.axes._subplots.AxesSubplot at 0x7fb8193809e8>"
            ]
          },
          "metadata": {
            "tags": []
          },
          "execution_count": 14
        },
        {
          "output_type": "display_data",
          "data": {
            "image/png": "[encoded data removed]",
            "text/plain": [
              "<Figure size 432x288 with 1 Axes>"
            ]
          },
          "metadata": {
            "tags": [],
            "needs_background": "light"
          }
        }
      ]
    }
  ]
}